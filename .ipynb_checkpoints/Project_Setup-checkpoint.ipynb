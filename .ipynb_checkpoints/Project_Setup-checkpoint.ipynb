{
 "cells": [
  {
   "cell_type": "markdown",
   "metadata": {},
   "source": [
    "# Project Setup"
   ]
  },
  {
   "cell_type": "markdown",
   "metadata": {},
   "source": [
    "pip install sportsreference is needed to run this code, as it contains data from the popular Sportsreference website. The documentation is listed here: https://sportsreference.readthedocs.io/en/stable/sportsreference.html\n",
    "\n",
    "The pypi site for this package is listed here: https://pypi.org/project/sportsreference/\n"
   ]
  },
  {
   "cell_type": "code",
   "execution_count": 2,
   "metadata": {},
   "outputs": [],
   "source": [
    "# pip install sportsreference"
   ]
  },
  {
   "cell_type": "code",
   "execution_count": 3,
   "metadata": {},
   "outputs": [],
   "source": [
    "# Dependencies\n",
    "import requests \n",
    "import json\n",
    "import pandas as pd\n",
    "import numpy as np\n",
    "import matplotlib.pyplot as plt\n",
    "from sportsreference.ncaab.roster import Player\n",
    "from sportsreference.nba.roster import Roster"
   ]
  },
  {
   "cell_type": "markdown",
   "metadata": {},
   "source": [
    "Creating the list of player objects.\n",
    "This is done by going through each team, then getting the list of player objects on each roster, and storing them in a list. This project collects data only from players on an active roster, to preserve accuracy, and because we realize that trends in the modern NBA can change rapidly that attributes like the mid-range shot is not as needed today as it was years ago."
   ]
  },
  {
   "cell_type": "code",
   "execution_count": 4,
   "metadata": {},
   "outputs": [
    {
     "name": "stdout",
     "output_type": "stream",
     "text": [
      "Successfully extracted player names\n"
     ]
    }
   ],
   "source": [
    "teams = ['ATL','BRK','BOS','CHO','CHI','CLE','DAL','DEN','DET','GSW',\n",
    "         'HOU','IND','LAC','LAL','MEM','MIA','MIL','MIN','NOP','NYK',\n",
    "         'OKC','ORL','PHI','PHO','POR','SAC','SAS','TOR','UTA','WAS']\n",
    "player_list = []\n",
    "\n",
    "for team in teams:\n",
    "    teamname = Roster(team)\n",
    "    for players in teamname.players:\n",
    "        player_list.append(players)\n",
    "print(\"Successfully extracted player names\")"
   ]
  },
  {
   "cell_type": "markdown",
   "metadata": {},
   "source": [
    "Storing all stats into two dictonaries now, each dictionary containing the player name as the key, and the value being the pandas dataframe that the function Player.dataframe gives us. This dataframe is a compilation of a ton of different stats, including some advanced stats. "
   ]
  },
  {
   "cell_type": "code",
   "execution_count": 6,
   "metadata": {},
   "outputs": [
    {
     "name": "stdout",
     "output_type": "stream",
     "text": [
      "Stored Everything in two dictionaries\n"
     ]
    }
   ],
   "source": [
    "nba_player_info = {}\n",
    "ncaa_player_info = {}\n",
    "for nbaplayer in player_list:\n",
    "    try:\n",
    "        name = nbaplayer.name\n",
    "        name = name.replace(\"'\", \"\")\n",
    "        name = name.replace(\".\", \"\")\n",
    "        split_name = name.split()\n",
    "        firstname = str(split_name[0]).lower()\n",
    "        lastname = str(split_name[1]).lower()\n",
    "        nameid = firstname + \"-\" + lastname + \"-1\"\n",
    "        ncaa_player = Player(nameid)\n",
    "        nba_player_info[nbaplayer.name] = nbaplayer.dataframe\n",
    "        ncaa_player_info[nbaplayer.name] = ncaa_player.dataframe \n",
    "    except(TypeError):\n",
    "        pass\n",
    "print(\"Stored Everything in two dictionaries\")"
   ]
  }
 ],
 "metadata": {
  "kernelspec": {
   "display_name": "Python 3",
   "language": "python",
   "name": "python3"
  },
  "language_info": {
   "codemirror_mode": {
    "name": "ipython",
    "version": 3
   },
   "file_extension": ".py",
   "mimetype": "text/x-python",
   "name": "python",
   "nbconvert_exporter": "python",
   "pygments_lexer": "ipython3",
   "version": "3.7.6"
  }
 },
 "nbformat": 4,
 "nbformat_minor": 4
}
